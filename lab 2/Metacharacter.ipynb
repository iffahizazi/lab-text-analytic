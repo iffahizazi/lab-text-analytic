{
 "cells": [
  {
   "cell_type": "code",
   "execution_count": 1,
   "id": "17712136",
   "metadata": {},
   "outputs": [],
   "source": [
    "#importing regular expression library \n",
    "import re \n"
   ]
  },
  {
   "cell_type": "code",
   "execution_count": 2,
   "id": "7f160f69",
   "metadata": {},
   "outputs": [
    {
     "name": "stdout",
     "output_type": "stream",
     "text": [
      "['I', ' ', 'a', 'm', ' ', 'l', 'e', 'a', 'r', 'n', 'i', 'n', 'g', ' ', 't', 'e', 'x', 't', ' ', 'a', 'n', 'a', 'l', 'y', 't', 'i', 'c', 's']\n"
     ]
    }
   ],
   "source": [
    "sentence1 = re.findall (r'.', 'I am learning text analytics') \n",
    "print (sentence1) \n",
    " \n",
    "# Each letter is selected including spaces \n"
   ]
  },
  {
   "cell_type": "code",
   "execution_count": 4,
   "id": "a3b41078",
   "metadata": {},
   "outputs": [
    {
     "name": "stdout",
     "output_type": "stream",
     "text": [
      "['I', 'a', 'm', 'l', 'e', 'a', 'r', 'n', 'i', 'n', 'g', 't', 'e', 'x', 't', 'a', 'n', 'a', 'l', 'y', 't', 'i', 'c', 's']\n"
     ]
    }
   ],
   "source": [
    "sentence2 = re.findall (r'\\w', 'I am learning text analytics') \n",
    "print (sentence2) \n",
    " \n",
    "# Each letter is selected excluding spaces \n"
   ]
  },
  {
   "cell_type": "code",
   "execution_count": 5,
   "id": "d0b68c9d",
   "metadata": {},
   "outputs": [
    {
     "name": "stdout",
     "output_type": "stream",
     "text": [
      "['I', '', 'am', '', 'learning', '', 'text', '', 'analytics', '']\n"
     ]
    }
   ],
   "source": [
    "sentence3 = re.findall (r'\\w*', 'I am learning text analytics') \n",
    "print (sentence3) \n",
    " \n",
    "# Each word is selected including spaces \n"
   ]
  },
  {
   "cell_type": "code",
   "execution_count": 6,
   "id": "8f9ddbdc",
   "metadata": {},
   "outputs": [
    {
     "name": "stdout",
     "output_type": "stream",
     "text": [
      "['I', 'am', 'learning', 'text', 'analytics']\n"
     ]
    }
   ],
   "source": [
    "sentence4 = re.findall (r'\\w+', 'I am learning text analytics') \n",
    "print (sentence4) \n",
    " \n",
    "# Each word is selected excluding spaces \n"
   ]
  },
  {
   "cell_type": "code",
   "execution_count": 7,
   "id": "9c38133e",
   "metadata": {},
   "outputs": [
    {
     "name": "stdout",
     "output_type": "stream",
     "text": [
      "['I']\n"
     ]
    }
   ],
   "source": [
    "sentence5 = re.findall (r'^\\w+', 'I am learning text analytics') \n",
    "print (sentence5) \n",
    " \n",
    "# First word is selected  \n"
   ]
  },
  {
   "cell_type": "code",
   "execution_count": 8,
   "id": "8a5a8c4d",
   "metadata": {},
   "outputs": [
    {
     "name": "stdout",
     "output_type": "stream",
     "text": [
      "['analytics']\n"
     ]
    }
   ],
   "source": [
    "sentence6 = re.findall (r'\\w+$', 'I am learning text analytics') \n",
    "print (sentence6) \n",
    " \n",
    "# Last word is selected  \n"
   ]
  },
  {
   "cell_type": "code",
   "execution_count": 9,
   "id": "c025e45b",
   "metadata": {},
   "outputs": [
    {
     "name": "stdout",
     "output_type": "stream",
     "text": [
      "['am', 'le', 'ar', 'ni', 'ng', 'te', 'xt', 'an', 'al', 'yt', 'ic']\n"
     ]
    }
   ],
   "source": [
    "sentence7 = re.findall (r'\\w\\w', 'I am learning text analytics') \n",
    "print (sentence7) \n",
    " \n",
    "# 2 consecutive characters are selected \n"
   ]
  },
  {
   "cell_type": "code",
   "execution_count": 10,
   "id": "2e009187",
   "metadata": {},
   "outputs": [
    {
     "name": "stdout",
     "output_type": "stream",
     "text": [
      "['am', 'le', 'te', 'an']\n"
     ]
    }
   ],
   "source": [
    "sentence8 = re.findall (r'\\b\\w\\w', 'I am learning text analytics') \n",
    "print (sentence8) \n",
    " \n",
    "# 2 consecutive characters in a string are selected \n"
   ]
  },
  {
   "cell_type": "code",
   "execution_count": null,
   "id": "d24de12d",
   "metadata": {},
   "outputs": [],
   "source": []
  }
 ],
 "metadata": {
  "kernelspec": {
   "display_name": "Python 3 (ipykernel)",
   "language": "python",
   "name": "python3"
  },
  "language_info": {
   "codemirror_mode": {
    "name": "ipython",
    "version": 3
   },
   "file_extension": ".py",
   "mimetype": "text/x-python",
   "name": "python",
   "nbconvert_exporter": "python",
   "pygments_lexer": "ipython3",
   "version": "3.11.5"
  }
 },
 "nbformat": 4,
 "nbformat_minor": 5
}
