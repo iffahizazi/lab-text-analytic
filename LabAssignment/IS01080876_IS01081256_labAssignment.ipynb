{
 "cells": [
  {
   "cell_type": "code",
   "execution_count": 1,
   "id": "b2f3106f",
   "metadata": {},
   "outputs": [],
   "source": [
    "import requests\n",
    "from bs4 import BeautifulSoup\n",
    "import csv\n",
    "\n",
    "#Function to scrape reviews from a page\n",
    "def scrape_amazon_reviews(url, pages=5):\n",
    "    base_url = url\n",
    "    headers = {'User-Agent': 'Mozilla/5.0'}\n",
    "    reviews = []\n",
    "    \n",
    "    for page in range(1, pages+1):\n",
    "        page_url = base_url + '&pageNumber=' + str(page)\n",
    "        response = requests.get(page_url, headers=headers)\n",
    "        soup = BeautifulSoup(response.text, 'html.parser')\n",
    "        \n",
    "        for review_container in soup.find_all('div', {'data-hook':'review'}):\n",
    "            name = review_container.find('span', class_=\"a-profile-name\").text.strip()\n",
    "            date = review_container.find('span', {'data-hook':'review-date'}).text.strip()\n",
    "            content = review_container.find('span', {'data-hook':'review-body'}).text.strip()\n",
    "            reviews.append({'Name': name, 'Date': date, 'Content': content})\n",
    "    \n",
    "    return reviews\n",
    "#Base URL\n",
    "url = 'https://www.amazon.com/SAMSUNG-Smartphone-Unlocked-Android-Processor/dp/B0CMDL3H3V/ref=sr_1_1_sspa?crid=3EKFIEI7TIKIW&dib=eyJ2IjoiMSJ9.EkoRKaUYiOxnzTvjqR8INr_gUJ1Lzc31o0jHsDUQPWzFbYQE-xd0DFxOH-bqEj8ckSK91-rCp_UK7VW1qtuHGqA1JH5S4WyCAukc3L-yJb1lfMgbyMHI4ARwhGpA-4k5l41F0C19ox7lkjtnnlRzDbNIRrDMjsM6_akkSPUKkgSyzMpFQKASM7GBal3OdcQHRCHPEn6ii0wS298PH6snJS7clPQzUPhvMwWaoyrY0tY.qeLdncOY7DO48GhyfS6uboSXzH69PZBX-Hkq_HxVirI&dib_tag=se&keywords=samsung&qid=1711470448&sprefix=samsung%2Caps%2C401&sr=8-1-spons&sp_csd=d2lkZ2V0TmFtZT1zcF9hdGY&th=1'\n",
    "\n",
    "#Scrape reviews from next 5 pages\n",
    "reviews = scrape_amazon_reviews(url, 5)\n",
    "\n",
    "#Save reviews to CSV file\n",
    "with open('reviewAmazon.csv', 'w', newline='', encoding='utf-8') as csvfile:\n",
    "    fieldnames = ['Name', 'Date', 'Content']\n",
    "    writer = csv.DictWriter(csvfile, fieldnames=fieldnames)\n",
    "    writer.writeheader()\n",
    "    writer.writerows(reviews)"
   ]
  },
  {
   "cell_type": "code",
   "execution_count": null,
   "id": "6deb2e1f",
   "metadata": {},
   "outputs": [],
   "source": []
  }
 ],
 "metadata": {
  "kernelspec": {
   "display_name": "Python 3 (ipykernel)",
   "language": "python",
   "name": "python3"
  },
  "language_info": {
   "codemirror_mode": {
    "name": "ipython",
    "version": 3
   },
   "file_extension": ".py",
   "mimetype": "text/x-python",
   "name": "python",
   "nbconvert_exporter": "python",
   "pygments_lexer": "ipython3",
   "version": "3.11.5"
  }
 },
 "nbformat": 4,
 "nbformat_minor": 5
}
